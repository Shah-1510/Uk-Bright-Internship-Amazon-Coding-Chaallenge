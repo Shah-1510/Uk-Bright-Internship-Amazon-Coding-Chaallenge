{
 "cells": [
  {
   "cell_type": "code",
   "execution_count": 1,
   "id": "62b3f42d",
   "metadata": {},
   "outputs": [],
   "source": [
    "#Setting up my environment and importing relevant libraries\n",
    "from pathfinding.core.grid import Grid; # to create a grid\n",
    "from pathfinding.core.diagonal_movement import DiagonalMovement # to allow diagonal movement\n",
    "from pathfinding.finder.a_star import AStarFinder # importing A* pathfinding algorithm (this takes weights into\n",
    "# account so in this case all walkable nodes will be given the same weight)\n",
    "import random # This will use to generate random locations for the additional obstacles"
   ]
  },
  {
   "cell_type": "code",
   "execution_count": 31,
   "id": "e7b62eae",
   "metadata": {},
   "outputs": [
    {
     "name": "stdout",
     "output_type": "stream",
     "text": [
      "------Amazon Path Finding Algorithm 2D Grid------\n",
      "\n",
      "\n",
      "Number of Steps Required to Reach Destination:  24\n",
      "Total Nodes Visited:  [(0, 0), (1, 1), (2, 2), (3, 3), (4, 4), (5, 5), (6, 6), (7, 6), (8, 7), (8, 8), (9, 9)]\n",
      "\n",
      "20 additional obstacles Placed at:  [(8, 7), (6, 3), (5, 1), (1, 8), (0, 3), (4, 8), (2, 7), (2, 9), (5, 5), (0, 9), (4, 3), (0, 1), (1, 2), (1, 2), (5, 1), (0, 8), (2, 1), (2, 1), (1, 0), (9, 6), (1, 5)]\n",
      "\n",
      "Number of Steps Required to Reach Destination:  18\n",
      "Total Nodes Visited:  [(0, 0), (1, 1), (2, 2), (3, 3), (4, 4), (5, 4), (6, 5), (7, 6), (8, 7), (8, 8), (9, 9)]\n"
     ]
    }
   ],
   "source": [
    "# Phase 1\n",
    "# Setting up a 10x10 grid with starting point, delivery point and 4 obstacles at \n",
    "# (0,0), (9,9), (9,7), (8,7), (7,7) and (6,8) respectively:\n",
    "\n",
    "print(\"------Amazon Path Finding Algorithm 2D Grid------\\n\")\n",
    "matrix = []\n",
    "for i in range(10):\n",
    "    matrix.append([1, 1, 1, 1, 1, 1, 1, 1, 1, 1])\n",
    "matrix[7][7] = 0\n",
    "matrix[6][8] = 0   #nodes with obstacles are given weight 0 as they are not walkable\n",
    "matrix[8][7] = 0\n",
    "matrix[9][7] = 0\n",
    "\n",
    "# Calculating a valid path to the delivery point, avoiding obstacles:\n",
    "def find_path(matrix):\n",
    "    grid = Grid(matrix=matrix)\n",
    "    start = grid.node(0, 0) \n",
    "    end = grid.node(9, 9)   \n",
    "    finder = AStarFinder(diagonal_movement = DiagonalMovement.always)\n",
    "    path, runs = finder.find_path(start, end, grid)\n",
    "    if path != []:\n",
    "        print('\\nNumber of Steps Required to Reach Destination: ', runs)\n",
    "        print('Total Nodes Visited: ', path)\n",
    "    else:\n",
    "        print(\"\\nUnable to reach delivery point\")\n",
    "\n",
    "#Print path and number of steps required:\n",
    "#solution format: [(x1, y1), (x2, y2), ...]\n",
    "\n",
    "find_path(matrix) #already have print statement inside function to make code neater\n",
    "\n",
    "#Phase 2\n",
    "#Adding 20 randomly placed obstacles, ensuring they do not overlap existing ones:\n",
    "\n",
    "obstacle_coords = []\n",
    "while len(obstacle_coords) < 21:\n",
    "    coord = (random.randint(0, 9), random.randint(0, 9))\n",
    "    if coord != (6,8) and (7,7) and (8,7) and (9,7) and (0,0) and (9, 9):\n",
    "        obstacle_coords.append(coord)\n",
    "print('\\n20 additional obstacles Placed at: ',obstacle_coords)  # printing locations of new obstacles:\n",
    "\n",
    "# Change 1s in these locations in matrix to 0s to represent obstacles:\n",
    "for coord in obstacle_coords:\n",
    "    matrix[coord[0]][coord[1]] = 0\n",
    "\n",
    "#Calculate valid path to delivery point avoiding obstacles and print coordinates:\n",
    "\n",
    "find_path(matrix)"
   ]
  },
  {
   "cell_type": "code",
   "execution_count": null,
   "id": "c670930f",
   "metadata": {},
   "outputs": [],
   "source": []
  }
 ],
 "metadata": {
  "kernelspec": {
   "display_name": "Python 3",
   "language": "python",
   "name": "python3"
  },
  "language_info": {
   "codemirror_mode": {
    "name": "ipython",
    "version": 3
   },
   "file_extension": ".py",
   "mimetype": "text/x-python",
   "name": "python",
   "nbconvert_exporter": "python",
   "pygments_lexer": "ipython3",
   "version": "3.8.8"
  }
 },
 "nbformat": 4,
 "nbformat_minor": 5
}
